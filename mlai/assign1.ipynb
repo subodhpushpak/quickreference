{
 "cells": [
  {
   "cell_type": "code",
   "execution_count": 28,
   "metadata": {},
   "outputs": [],
   "source": [
    "import numpy as np\n",
    "import scipy.stats as stats\n",
    "import matplotlib.pyplot as plt\n",
    "import math"
   ]
  },
  {
   "attachments": {},
   "cell_type": "markdown",
   "metadata": {},
   "source": [
    "Quick reference with example\n",
    "\tbinomial\n",
    "    \tA binomial distribution can be thought of as simply the probability of a SUCCESS or FAILURE outcome in an experiment or survey that is repeated multiple times. The binomial is a type of distribution that has two possible outcomes. Bi means two.\n",
    "\tBinomial distributions must also meet the following three criteria:\n",
    "\t\ta. The number of observations or trials is fixed. \n",
    "\t\tb. Each observation or trial is independent. In other words, none of your trials have an effect on the probability of the next trial.\n",
    "\t\tc. The probability of success (tails, heads, fail or pass) is exactly the same from one trial to another.\n",
    "\t\n",
    "\t\tn= 10\n",
    "\t\tp=.5\n",
    "\t\tk =8\n",
    "\t\tbinom8 = stats.binom.pmf(k,n,p)\n",
    "\t\t\n",
    "\t\tm1 = n * p\n",
    "\t\tsd1 = math.sqrt(n * p * (1-p))\n",
    "\t\t\n",
    "\t\t\n",
    "\tpoisson\n",
    "    \tThe Poisson distribution is the discrete probability distribution of the number of events occurring in a given time period, given the average number of times the event occurs over that time period.\n",
    "\tTotal number of trials is NOT required.\n",
    "    \n",
    "\t\tlambd = 5\n",
    "\t\tx = 0\n",
    "\t\t\n",
    "\t\tp0 = (math.pow(lambd,x) * math.exp(-1 * lambd)) / math.factorial(x) \n",
    "\t\t\n",
    "\t\tstats.poisson.pmf(x,lambd)\n",
    "\t\n",
    "\t\n",
    "\tNormal\n",
    "    The bell curve is a probability distribution that is symmetric about the mean.\n",
    "\tMean, median, mode are same\n",
    "\t\tmean = 70\n",
    "\t\tsd = 10\n",
    "\t\tx = 100\n",
    "\t\tnormal = stats.norm.cdf(x,loc=mean,scale=sd)  #  (cumulative) distribution function \n",
    "\t\t\n",
    "\t\tplt.plot(k,binomial, 'o-')"
   ]
  },
  {
   "cell_type": "markdown",
   "metadata": {},
   "source": [
    "### 1.You flip a fair coin 10 times. What is the probability of getting 8 or more heads? "
   ]
  },
  {
   "cell_type": "code",
   "execution_count": null,
   "metadata": {},
   "outputs": [],
   "source": []
  },
  {
   "cell_type": "code",
   "execution_count": 10,
   "metadata": {},
   "outputs": [
    {
     "data": {
      "text/plain": [
       "0.0546875"
      ]
     },
     "execution_count": 10,
     "metadata": {},
     "output_type": "execute_result"
    }
   ],
   "source": [
    "n= 10\n",
    "p=.5\n",
    "\n",
    "binom8 = stats.binom.pmf(8,n,p)\n",
    "binom9 = stats.binom.pmf(9,n,p)\n",
    "binom10 = stats.binom.pmf(10,n,p)\n",
    "ans = binom8 + binom9 + binom10\n",
    "ans"
   ]
  },
  {
   "cell_type": "markdown",
   "metadata": {},
   "source": [
    "You may use the Binomial Calculator (n = 10, p = .5, > or = 8). Otherwise add up the probability of getting 8, 9, \n",
    "and 10 heads: .044 + .01 + .001 = .055"
   ]
  },
  {
   "cell_type": "code",
   "execution_count": 7,
   "metadata": {},
   "outputs": [
    {
     "data": {
      "text/plain": [
       "0.45"
      ]
     },
     "execution_count": 7,
     "metadata": {},
     "output_type": "execute_result"
    }
   ],
   "source": [
    "(9 * .5) /10"
   ]
  },
  {
   "cell_type": "markdown",
   "metadata": {},
   "source": [
    "### 2. The probability that you will win a certain game is 0.3. You play the game 20 times. What is the mean of this binomial distribution?\n"
   ]
  },
  {
   "cell_type": "markdown",
   "metadata": {},
   "source": [
    "M = np = 20 x 0.3 = 6"
   ]
  },
  {
   "cell_type": "code",
   "execution_count": 11,
   "metadata": {},
   "outputs": [
    {
     "data": {
      "text/plain": [
       "6.0"
      ]
     },
     "execution_count": 11,
     "metadata": {},
     "output_type": "execute_result"
    }
   ],
   "source": [
    "m = 20 * .3\n",
    "m"
   ]
  },
  {
   "cell_type": "markdown",
   "metadata": {},
   "source": [
    "### 3. An automatic camera records the number of cars running a red light at an intersection (that is, the cars were going through when the red light was against the car). Analysis of the data shows that on average 15% of light changes record a car running a red light. Assume that the data has a binomial distribution. What is theprobability that in 20 light changes there will be exactly three (3) cars running a red light?"
   ]
  },
  {
   "cell_type": "code",
   "execution_count": 12,
   "metadata": {},
   "outputs": [
    {
     "data": {
      "text/plain": [
       "0.24282889614926725"
      ]
     },
     "execution_count": 12,
     "metadata": {},
     "output_type": "execute_result"
    }
   ],
   "source": [
    "n = 20\n",
    "p = .15\n",
    "k = 3\n",
    "\n",
    "stats.binom.pmf(k,n,p)"
   ]
  },
  {
   "cell_type": "markdown",
   "metadata": {},
   "source": [
    "### Write out the key statistics from the information given:\n",
    "p =0.15, n=20, X=3\n",
    "\n",
    "Apply the formula, substituting these values:\n",
    "    <i>P(X=3)=  20C3 * 0.15^3 * 0.85^17 = 0.243</i><br>\n",
    "That is, the probability that in 20 light changes there will be three (3) cars running a\n",
    "red light is 0.24 (24%).\n"
   ]
  },
  {
   "cell_type": "markdown",
   "metadata": {},
   "source": [
    "### 4. There are 15 sets of traffic lights on the journey.The probability that a driver must stop at any one traffic light coming to alliance University is 0.3 <br> a) What is the probability that a student must stop at exactly 2 of the 15 sets oftraffic lights? <br> b) What is the probability that a student will be stopped at 1 or more of the 15sets of traffic lights? "
   ]
  },
  {
   "cell_type": "code",
   "execution_count": 15,
   "metadata": {},
   "outputs": [
    {
     "name": "stdout",
     "output_type": "stream",
     "text": [
      "0.0915601148346156\n",
      "0.969479961721795\n"
     ]
    }
   ],
   "source": [
    "n =15\n",
    "p = .3\n",
    "\n",
    "binom2 = stats.binom.pmf(2,n,p)\n",
    "print (binom2)\n",
    "\n",
    "binom15 = 1 - stats.binom.pmf(1,n,p)\n",
    "print (binom15)"
   ]
  },
  {
   "cell_type": "markdown",
   "metadata": {},
   "source": [
    "a) P=0.3, n=15, X=2\n",
    "=> P(X=2)= 15C2 * 0.3^2 * 0.7^13 = 0.0915  i.e, 9%"
   ]
  },
  {
   "cell_type": "markdown",
   "metadata": {},
   "source": [
    "b) P(X>=1)= 1- P(X < 1)= 1 - P(X = 0)\n",
    "1- 15C0 * 0.3^0 * 0.7^ 15 = 99.5%"
   ]
  },
  {
   "cell_type": "markdown",
   "metadata": {},
   "source": [
    "### 5. What is the area under the curve of a probability distribution? Explain."
   ]
  },
  {
   "cell_type": "markdown",
   "metadata": {},
   "source": [
    "The area is 1 by definition, meaning that the probability that a score chosen at random will occur under the curve is 1."
   ]
  },
  {
   "cell_type": "markdown",
   "metadata": {},
   "source": [
    "### 6. My Bank has a large Credit Card portfolio. Based on empirical data, they have found that 60% of the customers pay their bill on time. If a sample of 10 accounts is selected from the current database, construct the Probability Distribution of accounts paying on time.\n"
   ]
  },
  {
   "cell_type": "code",
   "execution_count": 17,
   "metadata": {},
   "outputs": [
    {
     "data": {
      "text/plain": [
       "[<matplotlib.lines.Line2D at 0x214b8f2e128>]"
      ]
     },
     "execution_count": 17,
     "metadata": {},
     "output_type": "execute_result"
    },
    {
     "data": {
      "image/png": "[encoded data removed]",
      "text/plain": [
       "<Figure size 432x288 with 1 Axes>"
      ]
     },
     "metadata": {
      "needs_background": "light"
     },
     "output_type": "display_data"
    }
   ],
   "source": [
    "n = 10\n",
    "p = .6\n",
    "k = np.arange(0,10)\n",
    "\n",
    "binom = stats.binom.pmf(k,n,p)\n",
    "binom\n",
    "plt.plot(k,binom, 'o-')"
   ]
  },
  {
   "cell_type": "markdown",
   "metadata": {},
   "source": [
    "Use stats.binom.pmf() function to construct the probability distribution, use the values of n = 10, construct a range for the possible no of customers, ie., 10 (here), in the distribution and p = 0.6\n"
   ]
  },
  {
   "cell_type": "markdown",
   "metadata": {},
   "source": [
    "### 7. If the likelihood of a tagged order form is 0.1, What is the probability that there are three tagged order forms in the sample of four?\n",
    "Hint: Use Binomial distribution equation"
   ]
  },
  {
   "cell_type": "code",
   "execution_count": 18,
   "metadata": {},
   "outputs": [
    {
     "data": {
      "text/plain": [
       "0.003600000000000003"
      ]
     },
     "execution_count": 18,
     "metadata": {},
     "output_type": "execute_result"
    }
   ],
   "source": [
    "n = 4\n",
    "p = .1\n",
    "\n",
    "binom = stats.binom.pmf(3,n,p)\n",
    "binom"
   ]
  },
  {
   "cell_type": "markdown",
   "metadata": {},
   "source": [
    "Determining P(X = 3), Given n=4 and pi =0.1\n",
    "P(X=3|n = 4, pi = 0.1)\n",
    "4!/3!(4-3)! * (0.1)^3 * (1-0.1)^4-3 = 0.0036"
   ]
  },
  {
   "cell_type": "markdown",
   "metadata": {},
   "source": [
    "### 8. Determine the following:\n",
    "\n",
    "a) For n = 4 and p = 0.12, what is P(X = 0)?\n",
    "\n",
    "b) For n = 6 and p = 0.83, what is P(X = 5)?"
   ]
  },
  {
   "cell_type": "code",
   "execution_count": 21,
   "metadata": {},
   "outputs": [
    {
     "name": "stdout",
     "output_type": "stream",
     "text": [
      "0.59969536 *** 0.4017821455860002\n"
     ]
    }
   ],
   "source": [
    "a1 = stats.binom.pmf(0,4,.12)\n",
    "a2 = stats.binom.pmf(5, 6, .83)\n",
    "print(a1 ,\"***\", a2)"
   ]
  },
  {
   "cell_type": "markdown",
   "metadata": {},
   "source": [
    "\n",
    "a) stats.binom.pmf(0,4,0.12)<br>\n",
    "b) stats.binom.pmf(5,6,0.83)"
   ]
  },
  {
   "cell_type": "markdown",
   "metadata": {},
   "source": [
    "### 9.Determine the mean and standard deviation of the variable X in each of the following binomial distributions:\n",
    "\n",
    "a) n = 4 and p = 0.10\n",
    "\n",
    "b) n = 5 and p = 0.80"
   ]
  },
  {
   "cell_type": "code",
   "execution_count": 29,
   "metadata": {},
   "outputs": [
    {
     "name": "stdout",
     "output_type": "stream",
     "text": [
      "0.4 ,  0.6000000000000001\n",
      "4.0 ,  0.8944271909999157\n"
     ]
    }
   ],
   "source": [
    "m1 = 4 *.1\n",
    "sd1 = math.sqrt(m1 * (1-.1))\n",
    "\n",
    "m2 = 5 * .8\n",
    "sd2 = math.sqrt(m2 * (1-.8))\n",
    "print(m1 , \", \", sd1)\n",
    "print(m2 , \", \", sd2)"
   ]
  },
  {
   "cell_type": "markdown",
   "metadata": {},
   "source": [
    "a) 0.40, 0.60\n",
    "b) 4.0, 0.894"
   ]
  },
  {
   "cell_type": "markdown",
   "metadata": {},
   "source": [
    "### 10. Assume a poisson distribution with lambda = 5.0. What is the probability that\n",
    "a) X <= 1?\n",
    "\n",
    "b) X > 1?"
   ]
  },
  {
   "cell_type": "code",
   "execution_count": 38,
   "metadata": {},
   "outputs": [
    {
     "name": "stdout",
     "output_type": "stream",
     "text": [
      "0.040427681994512805 ,  0.9663102650045726\n"
     ]
    }
   ],
   "source": [
    "lambd = 5\n",
    "x = 0\n",
    "\n",
    "p0 = (math.pow(lambd,x) * math.exp(-1 * lambd)) / math.factorial(x)\n",
    "x = 1\n",
    "p1 = (math.pow(lambd,x) * math.exp(-1 * lambd)) / math.factorial(x)\n",
    "ans1 = p0 + p1\n",
    "ans1\n",
    "\n",
    "ans2 = 1 - p1\n",
    "print(ans1, \", \", ans2)"
   ]
  },
  {
   "cell_type": "markdown",
   "metadata": {},
   "source": [
    "a) 0.0404 b) 0.9596"
   ]
  },
  {
   "cell_type": "markdown",
   "metadata": {},
   "source": [
    "### 11. The number of work related injuries per month in a manufacturing plant is known to follow a Poisson distribution, with a mean of 2.5 work-related injuries a month.\n",
    "\n",
    "a) What is the probability that in a given month, no work-related injuries occur?\n",
    "\n",
    "b) That at least one work- related injury occurs?\n",
    "\n",
    "Hint: Use Poisson distribution equation, find X = 0, Given lambda = 2.5"
   ]
  },
  {
   "cell_type": "code",
   "execution_count": 45,
   "metadata": {},
   "outputs": [
    {
     "name": "stdout",
     "output_type": "stream",
     "text": [
      "p0=  0.0820849986238988 , poisson= 0.0820849986238988 , poisson1= 0.9179150013761012\n"
     ]
    }
   ],
   "source": [
    "lambd = 2.5\n",
    "x =0\n",
    "p0 = (math.pow(lambd,x) * math.exp(-1 * lambd)) / math.factorial(x)\n",
    "\n",
    "poisson = stats.poisson.pmf(0,lambd)\n",
    "poisson1 = 1 - poisson\n",
    "print(\"p0= \", p0, \", poisson=\", poisson, \", poisson1=\", poisson1)"
   ]
  },
  {
   "cell_type": "markdown",
   "metadata": {},
   "source": [
    "a) P(X = 0| lambda = 2.5) = e^(-2.5) * (2.5)^0 / 0! = 0.0821 b) P(X >= 1) = 1 - P(X = 0) = 0.9179"
   ]
  },
  {
   "cell_type": "markdown",
   "metadata": {},
   "source": [
    "### 12. A 5-litre bucket of water is taken from a swamp. The water contains 75 mosquito larvae. A 200mL flask of water is taken form the bucket for further analysis. What is\n",
    "\n",
    "a) the expected number of larvae in the flask?\n",
    "\n",
    "b) the probability that the flask contains at least one mosquito lava?"
   ]
  },
  {
   "cell_type": "code",
   "execution_count": 52,
   "metadata": {},
   "outputs": [
    {
     "data": {
      "text/plain": [
       "0.950212931632136"
      ]
     },
     "execution_count": 52,
     "metadata": {},
     "output_type": "execute_result"
    }
   ],
   "source": [
    "l = 75 / 5\n",
    "lambd = l * 200 / 1000\n",
    "lambd\n",
    "poisson = 1 - stats.poisson.pmf(0,lambd)\n",
    "poisson"
   ]
  },
  {
   "cell_type": "markdown",
   "metadata": {},
   "source": [
    "lambda = 75 per 5L lambda = 3 per 200ml i.e expected number 3\n",
    "P(X >= 1) = 1 - p(X = 0) * e^ -3 * 3 ^ 0 / 0! = 0.9502"
   ]
  },
  {
   "cell_type": "markdown",
   "metadata": {},
   "source": [
    "### 13. Why the need of Standardization? Why do we us Z instead of “the Number of Standard Deviations”?"
   ]
  },
  {
   "cell_type": "markdown",
   "metadata": {},
   "source": [
    "Normally Distributed random variable take on many different units of measure: rupees, cms, inches, Kg, minutes. \n",
    "By standardizing, you remove the units as such we do not require separate Normal Distribution table for each variable \n",
    "and one Standardized Distribution Table can be used for any random variable."
   ]
  },
  {
   "cell_type": "markdown",
   "metadata": {},
   "source": [
    "### 14. A radar unit is used to measure speeds of cars on a Mumbai – Pune Highway. The speeds are normally distributed with a mean of 70 km/hr and a standard deviation of 10 km/hr.\n",
    "\n",
    "a)What is the probability that a car picked at random is travelling at more than 100 km/hr?\n",
    "\n",
    "b)What is the probability that the car speed is between 80 Km / hr and 100 Km / hr\n",
    "\n"
   ]
  },
  {
   "cell_type": "code",
   "execution_count": 59,
   "metadata": {},
   "outputs": [
    {
     "data": {
      "text/plain": [
       "0.0013498980316301035"
      ]
     },
     "execution_count": 59,
     "metadata": {},
     "output_type": "execute_result"
    }
   ],
   "source": [
    "mean = 70\n",
    "sd = 10\n",
    "x = 100\n",
    "normal = stats.norm.cdf(x,loc=mean,scale=sd) \n",
    "normal = 1 - normal\n",
    "normal"
   ]
  },
  {
   "cell_type": "code",
   "execution_count": 61,
   "metadata": {},
   "outputs": [
    {
     "data": {
      "text/plain": [
       "0.15730535589982697"
      ]
     },
     "execution_count": 61,
     "metadata": {},
     "output_type": "execute_result"
    }
   ],
   "source": [
    "normal = stats.norm.cdf(100,loc=mean,scale=sd) - stats.norm.cdf(80,loc=mean,scale=sd) \n",
    "normal"
   ]
  },
  {
   "cell_type": "code",
   "execution_count": 62,
   "metadata": {},
   "outputs": [
    {
     "data": {
      "text/plain": [
       "0.15730535589982697"
      ]
     },
     "execution_count": 62,
     "metadata": {},
     "output_type": "execute_result"
    }
   ],
   "source": [
    "z1 = (80-70)/10\n",
    "a2= stats.norm.cdf(z) - stats.norm.cdf(z1)\n",
    "a2"
   ]
  },
  {
   "cell_type": "markdown",
   "metadata": {},
   "source": [
    "import scipy.stats as stats\n",
    "\n",
    "z = (100 - 70)/10<br>\n",
    "for sol a<br>1 - (stats.norm.cdf(z))\n",
    "\n",
    "z1 = (80-70)/10<br>\n",
    "for soln b <br> stats.norm.cdf(z) - stats.norm.cdf(z1)\n"
   ]
  },
  {
   "cell_type": "markdown",
   "metadata": {},
   "source": [
    "### 15. The percentage of orders filled correctly at Wendy's was approximately 86.8%. Suppose that you go to drive-through window at Wendy's and place an order. Two friends of yours independently place orders at the drive-through window at the same Wendy's.\n",
    "\n",
    "What are the probabilities that\n",
    "\n",
    "a) all three filled correctly\n",
    "\n",
    "b) none of the three filled correctly\n",
    "\n",
    "c) atleast two of the three orders will be filled correctly?\n",
    "\n",
    "d) what is the mean and standard deviation of the orders filled correctly?"
   ]
  },
  {
   "cell_type": "code",
   "execution_count": 64,
   "metadata": {},
   "outputs": [],
   "source": [
    "p   =  0.868 # percentage of orders filled correctly at Wendy's was approximately 86.8%\n",
    "n   =  3\n",
    "import numpy as np\n",
    "import pandas as pd\n",
    "import scipy.stats as stats\n",
    "import matplotlib.pyplot as plt\n",
    "k = np.arange(0,4)"
   ]
  },
  {
   "cell_type": "code",
   "execution_count": 10,
   "metadata": {},
   "outputs": [],
   "source": [
    "from scipy.stats import binom\n",
    "import matplotlib.pyplot as plt\n",
    "binomial = stats.binom.pmf(k,n,p)"
   ]
  },
  {
   "cell_type": "code",
   "execution_count": 11,
   "metadata": {},
   "outputs": [
    {
     "name": "stdout",
     "output_type": "stream",
     "text": [
      "[0.00229997 0.0453721  0.2983559  0.65397203]\n"
     ]
    }
   ],
   "source": [
    "print(binomial)"
   ]
  },
  {
   "cell_type": "code",
   "execution_count": 14,
   "metadata": {},
   "outputs": [
    {
     "name": "stdout",
     "output_type": "stream",
     "text": [
      "a) all the three orders are filled correctly? is 0.6540\n"
     ]
    }
   ],
   "source": [
    "print('a) all the three orders are filled correctly? is %1.4f' %binomial[3])"
   ]
  },
  {
   "cell_type": "code",
   "execution_count": 15,
   "metadata": {},
   "outputs": [
    {
     "name": "stdout",
     "output_type": "stream",
     "text": [
      "b) none of the three orders are filled correctly? is 0.0023\n"
     ]
    }
   ],
   "source": [
    "print('b) none of the three orders are filled correctly? is %1.4f' %binomial[0])"
   ]
  },
  {
   "cell_type": "code",
   "execution_count": 65,
   "metadata": {},
   "outputs": [
    {
     "data": {
      "text/plain": [
       "0.002299968"
      ]
     },
     "execution_count": 65,
     "metadata": {},
     "output_type": "execute_result"
    }
   ],
   "source": [
    "binomial0 = stats.binom.pmf(0,n,p)\n",
    "binomial0"
   ]
  },
  {
   "cell_type": "code",
   "execution_count": null,
   "metadata": {},
   "outputs": [],
   "source": [
    "To answer this question c) atleast two of the three orders are filled correctly, we need to find out 1 - Probability of upto 1 failure"
   ]
  },
  {
   "cell_type": "code",
   "execution_count": 16,
   "metadata": {},
   "outputs": [],
   "source": [
    "cumbinomial = stats.binom.cdf(k,n,p)"
   ]
  },
  {
   "cell_type": "code",
   "execution_count": 19,
   "metadata": {},
   "outputs": [
    {
     "name": "stdout",
     "output_type": "stream",
     "text": [
      "[0.00229997 0.04767206 0.34602797 1.        ]\n"
     ]
    }
   ],
   "source": [
    "print(cumbinomial)"
   ]
  },
  {
   "cell_type": "code",
   "execution_count": 20,
   "metadata": {},
   "outputs": [
    {
     "name": "stdout",
     "output_type": "stream",
     "text": [
      "c) atleast two of the three orders are filled correctly? is 0.9523\n"
     ]
    }
   ],
   "source": [
    "P = 1 - cumbinomial[1]\n",
    "print('c) atleast two of the three orders are filled correctly? is %1.4f' % P)"
   ]
  },
  {
   "cell_type": "code",
   "execution_count": 21,
   "metadata": {},
   "outputs": [
    {
     "name": "stdout",
     "output_type": "stream",
     "text": [
      "mean and standard deviation of the orders filled correctly are 2.6040 and  0.5863 respectively\n"
     ]
    }
   ],
   "source": [
    "# d) what is the mean and standard deviation of the orders filled correctly?\n",
    "p    = 0.868\n",
    "n    = 3\n",
    "mean = n* p # = 3 * 0.868\n",
    "sd   = np.sqrt(n * p * (1 - p))\n",
    "print('mean and standard deviation of the orders filled correctly are %1.4f and  %1.4f respectively' % (mean, sd))"
   ]
  },
  {
   "cell_type": "code",
   "execution_count": null,
   "metadata": {},
   "outputs": [],
   "source": [
    "Plot the binomial distribution function"
   ]
  },
  {
   "cell_type": "code",
   "execution_count": 22,
   "metadata": {},
   "outputs": [
    {
     "data": {
      "image/png": "[encoded data removed]",
      "text/plain": [
       "<Figure size 432x288 with 1 Axes>"
      ]
     },
     "metadata": {},
     "output_type": "display_data"
    }
   ],
   "source": [
    "plt.plot(k,binomial, 'o-')\n",
    "plt.title('Binomial')\n",
    "plt.xlabel('Number of Orders filled correctly')\n",
    "plt.ylabel('Prob of Orders filled correctly')\n",
    "plt.show()"
   ]
  },
  {
   "cell_type": "code",
   "execution_count": 66,
   "metadata": {},
   "outputs": [
    {
     "data": {
      "text/plain": [
       "0.8413447460685429"
      ]
     },
     "execution_count": 66,
     "metadata": {},
     "output_type": "execute_result"
    }
   ],
   "source": [
    "mean = 70\n",
    "sd = 10\n",
    "x = 80\n",
    "normal = stats.norm.cdf(x,loc=mean,scale=sd) \n",
    "normal"
   ]
  },
  {
   "cell_type": "code",
   "execution_count": 67,
   "metadata": {},
   "outputs": [
    {
     "data": {
      "text/plain": [
       "0.1403738958142805"
      ]
     },
     "execution_count": 67,
     "metadata": {},
     "output_type": "execute_result"
    }
   ],
   "source": [
    "\n",
    "lambd = 5\n",
    "x = 3\n",
    "\n",
    "poisson = stats.poisson.pmf(x,lambd)\n",
    "poisson"
   ]
  },
  {
   "cell_type": "code",
   "execution_count": null,
   "metadata": {},
   "outputs": [],
   "source": []
  }
 ],
 "metadata": {
  "kernelspec": {
   "display_name": "Python 3",
   "language": "python",
   "name": "python3"
  },
  "language_info": {
   "codemirror_mode": {
    "name": "ipython",
    "version": 3
   },
   "file_extension": ".py",
   "mimetype": "text/x-python",
   "name": "python",
   "nbconvert_exporter": "python",
   "pygments_lexer": "ipython3",
   "version": "3.7.3"
  }
 },
 "nbformat": 4,
 "nbformat_minor": 2
}
