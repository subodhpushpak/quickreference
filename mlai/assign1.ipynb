{
  "nbformat": 4,
  "nbformat_minor": 0,
  "metadata": {
    "kernelspec": {
      "display_name": "Python 3",
      "language": "python",
      "name": "python3"
    },
    "language_info": {
      "codemirror_mode": {
        "name": "ipython",
        "version": 3
      },
      "file_extension": ".py",
      "mimetype": "text/x-python",
      "name": "python",
      "nbconvert_exporter": "python",
      "pygments_lexer": "ipython3",
      "version": "3.7.3"
    },
    "colab": {
      "name": "assign1.ipynb",
      "provenance": []
    }
  },
  "cells": [
    {
      "cell_type": "markdown",
      "metadata": {
        "id": "gCImOypHqFKd",
        "colab_type": "text"
      },
      "source": [
        "Assignment: Project-2- Hypothesis Testing\n",
        "\n",
        "\n",
        "---\n",
        "\n",
        "\n",
        "Objective:\n",
        "To dive deep into the  data to find some valuable insights.\n",
        "\n",
        "\n",
        "---\n",
        "\n",
        "\n",
        "Domain: Healthcare"
      ]
    },
    {
      "cell_type": "markdown",
      "metadata": {
        "id": "Brh2_8N8hn0F",
        "colab_type": "text"
      },
      "source": [
        "# **Exploratory Data analysis (EDA)**"
      ]
    },
    {
      "cell_type": "markdown",
      "metadata": {
        "id": "rcB1k-r1rcju",
        "colab_type": "text"
      },
      "source": [
        "1. Import the necessary libraries"
      ]
    },
    {
      "cell_type": "code",
      "metadata": {
        "id": "qHge35v-f-Or",
        "colab_type": "code",
        "colab": {}
      },
      "source": [
        "import numpy as np\n",
        "import pandas as pd\n",
        "import matplotlib.pyplot as plt\n",
        "import math\n",
        "import seaborn as sns\n",
        "import scipy.stats as stats\n",
        "import statsmodels.api as sm\n",
        "from sklearn.preprocessing import LabelEncoder\n",
        "%matplotlib inline"
      ],
      "execution_count": 0,
      "outputs": []
    },
    {
      "cell_type": "markdown",
      "metadata": {
        "id": "zSfaJSi2sqQY",
        "colab_type": "text"
      },
      "source": [
        "2. Read the data as a data frame"
      ]
    },
    {
      "cell_type": "code",
      "metadata": {
        "id": "ayDTa1RZgIlh",
        "colab_type": "code",
        "colab": {
          "base_uri": "https://localhost:8080/",
          "height": 202
        },
        "outputId": "3eb97eb7-1af0-4021-cb51-6bd3ab2c7621"
      },
      "source": [
        "insurance_df  = pd.read_csv('/insurance.csv') # Import the dataset named 'insurance.csv'\n",
        "insurance_df.head()  # view the first 5 rows of the data\n"
      ],
      "execution_count": 35,
      "outputs": [
        {
          "output_type": "execute_result",
          "data": {
            "text/html": [
              "<div>\n",
              "<style scoped>\n",
              "    .dataframe tbody tr th:only-of-type {\n",
              "        vertical-align: middle;\n",
              "    }\n",
              "\n",
              "    .dataframe tbody tr th {\n",
              "        vertical-align: top;\n",
              "    }\n",
              "\n",
              "    .dataframe thead th {\n",
              "        text-align: right;\n",
              "    }\n",
              "</style>\n",
              "<table border=\"1\" class=\"dataframe\">\n",
              "  <thead>\n",
              "    <tr style=\"text-align: right;\">\n",
              "      <th></th>\n",
              "      <th>age</th>\n",
              "      <th>sex</th>\n",
              "      <th>bmi</th>\n",
              "      <th>children</th>\n",
              "      <th>smoker</th>\n",
              "      <th>region</th>\n",
              "      <th>charges</th>\n",
              "    </tr>\n",
              "  </thead>\n",
              "  <tbody>\n",
              "    <tr>\n",
              "      <th>0</th>\n",
              "      <td>19</td>\n",
              "      <td>female</td>\n",
              "      <td>27.900</td>\n",
              "      <td>0</td>\n",
              "      <td>yes</td>\n",
              "      <td>southwest</td>\n",
              "      <td>16884.92400</td>\n",
              "    </tr>\n",
              "    <tr>\n",
              "      <th>1</th>\n",
              "      <td>18</td>\n",
              "      <td>male</td>\n",
              "      <td>33.770</td>\n",
              "      <td>1</td>\n",
              "      <td>no</td>\n",
              "      <td>southeast</td>\n",
              "      <td>1725.55230</td>\n",
              "    </tr>\n",
              "    <tr>\n",
              "      <th>2</th>\n",
              "      <td>28</td>\n",
              "      <td>male</td>\n",
              "      <td>33.000</td>\n",
              "      <td>3</td>\n",
              "      <td>no</td>\n",
              "      <td>southeast</td>\n",
              "      <td>4449.46200</td>\n",
              "    </tr>\n",
              "    <tr>\n",
              "      <th>3</th>\n",
              "      <td>33</td>\n",
              "      <td>male</td>\n",
              "      <td>22.705</td>\n",
              "      <td>0</td>\n",
              "      <td>no</td>\n",
              "      <td>northwest</td>\n",
              "      <td>21984.47061</td>\n",
              "    </tr>\n",
              "    <tr>\n",
              "      <th>4</th>\n",
              "      <td>32</td>\n",
              "      <td>male</td>\n",
              "      <td>28.880</td>\n",
              "      <td>0</td>\n",
              "      <td>no</td>\n",
              "      <td>northwest</td>\n",
              "      <td>3866.85520</td>\n",
              "    </tr>\n",
              "  </tbody>\n",
              "</table>\n",
              "</div>"
            ],
            "text/plain": [
              "   age     sex     bmi  children smoker     region      charges\n",
              "0   19  female  27.900         0    yes  southwest  16884.92400\n",
              "1   18    male  33.770         1     no  southeast   1725.55230\n",
              "2   28    male  33.000         3     no  southeast   4449.46200\n",
              "3   33    male  22.705         0     no  northwest  21984.47061\n",
              "4   32    male  28.880         0     no  northwest   3866.85520"
            ]
          },
          "metadata": {
            "tags": []
          },
          "execution_count": 35
        }
      ]
    },
    {
      "cell_type": "markdown",
      "metadata": {
        "id": "DAToXPvlwACd",
        "colab_type": "text"
      },
      "source": [
        "3. Perform basic EDA which should include the following\n",
        "and print out your insights at every step."
      ]
    },
    {
      "cell_type": "markdown",
      "metadata": {
        "id": "iIhbDlkDxBXv",
        "colab_type": "text"
      },
      "source": [
        "\n",
        "\n",
        "> a. Shape of the data\n",
        "\n"
      ]
    },
    {
      "cell_type": "code",
      "metadata": {
        "id": "wZ-X4E3FxLrt",
        "colab_type": "code",
        "colab": {
          "base_uri": "https://localhost:8080/",
          "height": 35
        },
        "outputId": "160b1e1a-fcd8-4231-a11b-3f59b57d55f9"
      },
      "source": [
        "rows, cols = insurance_df.shape # see the shape of the data\n",
        "print (f\"There are {rows} observations / rows and {cols} attributes / columns\")"
      ],
      "execution_count": 36,
      "outputs": [
        {
          "output_type": "stream",
          "text": [
            "There are 1338 observations / rows and 7 attributes / columns\n"
          ],
          "name": "stdout"
        }
      ]
    },
    {
      "cell_type": "markdown",
      "metadata": {
        "id": "sT6DY6WKxXUC",
        "colab_type": "text"
      },
      "source": [
        "> b. Data type of each attribute"
      ]
    },
    {
      "cell_type": "code",
      "metadata": {
        "id": "3p-HDPAbxeYh",
        "colab_type": "code",
        "colab": {
          "base_uri": "https://localhost:8080/",
          "height": 225
        },
        "outputId": "33af5b84-4b75-47af-b59e-4f2723afbe2f"
      },
      "source": [
        "insurance_df.info() # Info on  the data type of each of the variable, number of values entered in each of the variables"
      ],
      "execution_count": 37,
      "outputs": [
        {
          "output_type": "stream",
          "text": [
            "<class 'pandas.core.frame.DataFrame'>\n",
            "RangeIndex: 1338 entries, 0 to 1337\n",
            "Data columns (total 7 columns):\n",
            "age         1338 non-null int64\n",
            "sex         1338 non-null object\n",
            "bmi         1338 non-null float64\n",
            "children    1338 non-null int64\n",
            "smoker      1338 non-null object\n",
            "region      1338 non-null object\n",
            "charges     1338 non-null float64\n",
            "dtypes: float64(2), int64(2), object(3)\n",
            "memory usage: 73.3+ KB\n"
          ],
          "name": "stdout"
        }
      ]
    },
    {
      "cell_type": "markdown",
      "metadata": {
        "id": "3UCusSK96rCs",
        "colab_type": "text"
      },
      "source": [
        "The data has 1338 instances with 7 attributes / columns. 2 integer type, 2 float type and 3 object type (Strings)"
      ]
    },
    {
      "cell_type": "markdown",
      "metadata": {
        "id": "nG5ToKMT65as",
        "colab_type": "text"
      },
      "source": [
        "> c. Checking the presence of missing values"
      ]
    },
    {
      "cell_type": "code",
      "metadata": {
        "id": "qcYT6ZMFxief",
        "colab_type": "code",
        "colab": {
          "base_uri": "https://localhost:8080/",
          "height": 156
        },
        "outputId": "2e92f299-2650-4a7e-bdc8-eb9ff7b0fb47"
      },
      "source": [
        "insurance_df.isna().sum()  # get the sum of na values"
      ],
      "execution_count": 38,
      "outputs": [
        {
          "output_type": "execute_result",
          "data": {
            "text/plain": [
              "age         0\n",
              "sex         0\n",
              "bmi         0\n",
              "children    0\n",
              "smoker      0\n",
              "region      0\n",
              "charges     0\n",
              "dtype: int64"
            ]
          },
          "metadata": {
            "tags": []
          },
          "execution_count": 38
        }
      ]
    },
    {
      "cell_type": "markdown",
      "metadata": {
        "id": "mJXkNSi28T2q",
        "colab_type": "text"
      },
      "source": [
        "No null values in the dataset"
      ]
    },
    {
      "cell_type": "markdown",
      "metadata": {
        "id": "30I6Ulsn8-BK",
        "colab_type": "text"
      },
      "source": [
        "> d. 5 point summary of numerical attributes\n",
        "\n"
      ]
    },
    {
      "cell_type": "code",
      "metadata": {
        "id": "ujdI5tb17RFx",
        "colab_type": "code",
        "colab": {
          "base_uri": "https://localhost:8080/",
          "height": 171
        },
        "outputId": "b97dd8c1-d037-442e-bcb3-9bdc4ad716ba"
      },
      "source": [
        "#Five point summary for the dataset\n",
        "insurance_df.describe().T"
      ],
      "execution_count": 39,
      "outputs": [
        {
          "output_type": "execute_result",
          "data": {
            "text/html": [
              "<div>\n",
              "<style scoped>\n",
              "    .dataframe tbody tr th:only-of-type {\n",
              "        vertical-align: middle;\n",
              "    }\n",
              "\n",
              "    .dataframe tbody tr th {\n",
              "        vertical-align: top;\n",
              "    }\n",
              "\n",
              "    .dataframe thead th {\n",
              "        text-align: right;\n",
              "    }\n",
              "</style>\n",
              "<table border=\"1\" class=\"dataframe\">\n",
              "  <thead>\n",
              "    <tr style=\"text-align: right;\">\n",
              "      <th></th>\n",
              "      <th>count</th>\n",
              "      <th>mean</th>\n",
              "      <th>std</th>\n",
              "      <th>min</th>\n",
              "      <th>25%</th>\n",
              "      <th>50%</th>\n",
              "      <th>75%</th>\n",
              "      <th>max</th>\n",
              "    </tr>\n",
              "  </thead>\n",
              "  <tbody>\n",
              "    <tr>\n",
              "      <th>age</th>\n",
              "      <td>1338.0</td>\n",
              "      <td>39.207025</td>\n",
              "      <td>14.049960</td>\n",
              "      <td>18.0000</td>\n",
              "      <td>27.00000</td>\n",
              "      <td>39.000</td>\n",
              "      <td>51.000000</td>\n",
              "      <td>64.00000</td>\n",
              "    </tr>\n",
              "    <tr>\n",
              "      <th>bmi</th>\n",
              "      <td>1338.0</td>\n",
              "      <td>30.663397</td>\n",
              "      <td>6.098187</td>\n",
              "      <td>15.9600</td>\n",
              "      <td>26.29625</td>\n",
              "      <td>30.400</td>\n",
              "      <td>34.693750</td>\n",
              "      <td>53.13000</td>\n",
              "    </tr>\n",
              "    <tr>\n",
              "      <th>children</th>\n",
              "      <td>1338.0</td>\n",
              "      <td>1.094918</td>\n",
              "      <td>1.205493</td>\n",
              "      <td>0.0000</td>\n",
              "      <td>0.00000</td>\n",
              "      <td>1.000</td>\n",
              "      <td>2.000000</td>\n",
              "      <td>5.00000</td>\n",
              "    </tr>\n",
              "    <tr>\n",
              "      <th>charges</th>\n",
              "      <td>1338.0</td>\n",
              "      <td>13270.422265</td>\n",
              "      <td>12110.011237</td>\n",
              "      <td>1121.8739</td>\n",
              "      <td>4740.28715</td>\n",
              "      <td>9382.033</td>\n",
              "      <td>16639.912515</td>\n",
              "      <td>63770.42801</td>\n",
              "    </tr>\n",
              "  </tbody>\n",
              "</table>\n",
              "</div>"
            ],
            "text/plain": [
              "           count          mean  ...           75%          max\n",
              "age       1338.0     39.207025  ...     51.000000     64.00000\n",
              "bmi       1338.0     30.663397  ...     34.693750     53.13000\n",
              "children  1338.0      1.094918  ...      2.000000      5.00000\n",
              "charges   1338.0  13270.422265  ...  16639.912515  63770.42801\n",
              "\n",
              "[4 rows x 8 columns]"
            ]
          },
          "metadata": {
            "tags": []
          },
          "execution_count": 39
        }
      ]
    },
    {
      "cell_type": "markdown",
      "metadata": {
        "id": "fZEN3yBK-U2v",
        "colab_type": "text"
      },
      "source": [
        "\n",
        "\n",
        "*  The data seems to be logically OK and statistics seem reasonable\n",
        "*  The age column, data seems to be  representative of the true age distribution of the adult population\n",
        "*  Few people have more than 2 children. About 75% of the people have 2 or less children\n",
        "*  The charges column higly skewed\n",
        "\n",
        "\n",
        "\n"
      ]
    },
    {
      "cell_type": "code",
      "metadata": {
        "id": "TruF7XVh_esw",
        "colab_type": "code",
        "colab": {
          "base_uri": "https://localhost:8080/",
          "height": 156
        },
        "outputId": "71ef5285-d295-4e79-a7cb-49a5a05c6e9c"
      },
      "source": [
        "# get the mode\n",
        "print(\"insurance_df mode: \",(insurance_df.mode()).T) \n",
        "# insurance_df[\"children\"].value_counts() # analyse if mode of given column is correct"
      ],
      "execution_count": 61,
      "outputs": [
        {
          "output_type": "stream",
          "text": [
            "insurance_df mode:                    0\n",
            "age              18\n",
            "sex            male\n",
            "bmi            32.3\n",
            "children          0\n",
            "smoker           no\n",
            "region    southeast\n",
            "charges     1639.56\n"
          ],
          "name": "stdout"
        }
      ]
    },
    {
      "cell_type": "markdown",
      "metadata": {
        "id": "HTRPQJmJCHlj",
        "colab_type": "text"
      },
      "source": [
        "*  People with age 18 occurs most  \n",
        "*  Most people come from southeast region\n",
        "*  Most people are having 0 children"
      ]
    },
    {
      "cell_type": "code",
      "metadata": {
        "id": "7y38soYAAKry",
        "colab_type": "code",
        "colab": {
          "base_uri": "https://localhost:8080/",
          "height": 121
        },
        "outputId": "fc9bf6a4-fbe5-4e03-a4fe-b0993b05a367"
      },
      "source": [
        "# get the median of the data\n",
        "print(\"insurance_df median: \\n\",insurance_df.median()) "
      ],
      "execution_count": 62,
      "outputs": [
        {
          "output_type": "stream",
          "text": [
            "insurance_df median: \n",
            " age           39.000\n",
            "bmi           30.400\n",
            "children       1.000\n",
            "charges     9382.033\n",
            "dtype: float64\n"
          ],
          "name": "stdout"
        }
      ]
    },
    {
      "cell_type": "markdown",
      "metadata": {
        "id": "mBRYXt3gD46e",
        "colab_type": "text"
      },
      "source": [
        "The charges mean (13270.422) varies considerably than median (9382.033)"
      ]
    },
    {
      "cell_type": "markdown",
      "metadata": {
        "id": "2Ik9p3WXWrXN",
        "colab_type": "text"
      },
      "source": [
        "> Distribution of ‘bmi’, ‘age’ and ‘charges’ columns."
      ]
    },
    {
      "cell_type": "code",
      "metadata": {
        "id": "Pcv9-ET_Dkia",
        "colab_type": "code",
        "colab": {
          "base_uri": "https://localhost:8080/",
          "height": 322
        },
        "outputId": "085b9dd4-ecca-466d-df8c-3433d2e9bc0a"
      },
      "source": [
        "plt.figure(figsize= (20,15))\n",
        "\n",
        "\n",
        "plt.subplot(3,3,1)\n",
        "plt.hist(insurance_df.bmi,color='red', edgecolor = 'black', alpha = 0.5)\n",
        "plt.ylabel('Frequency') # label the y-axis\n",
        "plt.xlabel('bmi')\n",
        "plt.axvline(insurance_df.bmi.mean(),color='green',label='Mean')  \n",
        "plt.axvline(insurance_df.bmi.median(),color='blue',label='Median')\n",
        "plt.axvline(insurance_df.bmi.mode()[0],color='red',label='Mode')\n",
        "plt.legend()  \n",
        "\n",
        "plt.subplot(3,3,2)\n",
        "plt.hist(insurance_df.age, color='lightgreen', edgecolor = 'black', alpha = 0.5)\n",
        "plt.ylabel('Frequency') # label the y-axis\n",
        "plt.xlabel('age')\n",
        "plt.axvline(insurance_df.age.mean(),color='green',label='Mean')  \n",
        "plt.axvline(insurance_df.age.median(),color='blue',label='Median')\n",
        "plt.axvline(insurance_df.age.mode()[0],color='red',label='Mode')\n",
        "plt.legend()  \n",
        "\n",
        "plt.subplot(3,3,3)\n",
        "plt.hist(insurance_df.charges, color='lightblue', edgecolor = 'black', alpha = 0.5)\n",
        "plt.ylabel('Frequency') # label the y-axis\n",
        "plt.xlabel('charges')\n",
        "plt.axvline(insurance_df.charges.mean(),color='green',label='Mean')  \n",
        "plt.axvline(insurance_df.charges.median(),color='blue',label='Median')\n",
        "plt.axvline(insurance_df.charges.mode()[0],color='red',label='Mode')\n",
        "plt.legend()     # Plot the legend\n",
        "         \n",
        "\n",
        "plt.show()"
      ],
      "execution_count": 93,
      "outputs": [
        {
          "output_type": "display_data",
          "data": {
            "image/png": "[encoded data removed]",
            "text/plain": [
              "<Figure size 1440x1080 with 3 Axes>"
            ]
          },
          "metadata": {
            "tags": []
          }
        }
      ]
    },
    {
      "cell_type": "markdown",
      "metadata": {
        "id": "AzR-1cl3bXEy",
        "colab_type": "text"
      },
      "source": [
        "\n",
        "* bmi is almost normally distributed\n",
        "* Age is uniformly normally\n",
        "* Charges are highly skewed\n"
      ]
    },
    {
      "cell_type": "markdown",
      "metadata": {
        "id": "6UxXfqGwbzg_",
        "colab_type": "text"
      },
      "source": [
        "> f. Measure of skewness of ‘bmi’, ‘age’ and ‘charges columns"
      ]
    },
    {
      "cell_type": "code",
      "metadata": {
        "id": "jvDPNte7D1Hi",
        "colab_type": "code",
        "colab": {
          "base_uri": "https://localhost:8080/",
          "height": 141
        },
        "outputId": "0ccafe72-6a9f-4be1-ed3f-ee96bbe6ae04"
      },
      "source": [
        "skewness = pd.DataFrame({'Skewness' : [stats.skew(insurance_df.bmi),stats.skew(insurance_df.age),stats.skew(insurance_df.charges)]},\n",
        "                        index=['bmi','age','charges'])  \n",
        "skewness"
      ],
      "execution_count": 94,
      "outputs": [
        {
          "output_type": "execute_result",
          "data": {
            "text/html": [
              "<div>\n",
              "<style scoped>\n",
              "    .dataframe tbody tr th:only-of-type {\n",
              "        vertical-align: middle;\n",
              "    }\n",
              "\n",
              "    .dataframe tbody tr th {\n",
              "        vertical-align: top;\n",
              "    }\n",
              "\n",
              "    .dataframe thead th {\n",
              "        text-align: right;\n",
              "    }\n",
              "</style>\n",
              "<table border=\"1\" class=\"dataframe\">\n",
              "  <thead>\n",
              "    <tr style=\"text-align: right;\">\n",
              "      <th></th>\n",
              "      <th>Skewness</th>\n",
              "    </tr>\n",
              "  </thead>\n",
              "  <tbody>\n",
              "    <tr>\n",
              "      <th>bmi</th>\n",
              "      <td>0.283729</td>\n",
              "    </tr>\n",
              "    <tr>\n",
              "      <th>age</th>\n",
              "      <td>0.055610</td>\n",
              "    </tr>\n",
              "    <tr>\n",
              "      <th>charges</th>\n",
              "      <td>1.514180</td>\n",
              "    </tr>\n",
              "  </tbody>\n",
              "</table>\n",
              "</div>"
            ],
            "text/plain": [
              "         Skewness\n",
              "bmi      0.283729\n",
              "age      0.055610\n",
              "charges  1.514180"
            ]
          },
          "metadata": {
            "tags": []
          },
          "execution_count": 94
        }
      ]
    },
    {
      "cell_type": "markdown",
      "metadata": {
        "id": "qzFv_O5vbV_z",
        "colab_type": "text"
      },
      "source": [
        ""
      ]
    }
  ]
}