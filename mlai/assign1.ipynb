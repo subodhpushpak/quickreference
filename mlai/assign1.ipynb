{
  "nbformat": 4,
  "nbformat_minor": 0,
  "metadata": {
    "kernelspec": {
      "display_name": "Python 3",
      "language": "python",
      "name": "python3"
    },
    "language_info": {
      "codemirror_mode": {
        "name": "ipython",
        "version": 3
      },
      "file_extension": ".py",
      "mimetype": "text/x-python",
      "name": "python",
      "nbconvert_exporter": "python",
      "pygments_lexer": "ipython3",
      "version": "3.7.3"
    },
    "colab": {
      "name": "assign1.ipynb",
      "provenance": [],
      "toc_visible": true
    }
  },
  "cells": [
    {
      "cell_type": "markdown",
      "metadata": {
        "id": "gCImOypHqFKd",
        "colab_type": "text"
      },
      "source": [
        "Assignment: Project-2- Hypothesis Testing\n",
        "\n",
        "\n",
        "---\n",
        "\n",
        "\n",
        "Objective:\n",
        "To dive deep into the  data to find some valuable insights.\n",
        "\n",
        "\n",
        "---\n",
        "\n",
        "\n",
        "Domain: Healthcare"
      ]
    },
    {
      "cell_type": "markdown",
      "metadata": {
        "id": "Brh2_8N8hn0F",
        "colab_type": "text"
      },
      "source": [
        "# **Exploratory Data analysis (EDA)**"
      ]
    },
    {
      "cell_type": "markdown",
      "metadata": {
        "id": "rcB1k-r1rcju",
        "colab_type": "text"
      },
      "source": [
        "1. Import the necessary libraries"
      ]
    },
    {
      "cell_type": "code",
      "metadata": {
        "id": "qHge35v-f-Or",
        "colab_type": "code",
        "colab": {}
      },
      "source": [
        "import numpy as np\n",
        "import pandas as pd\n",
        "import matplotlib.pyplot as plt\n",
        "import math\n",
        "import seaborn as sns\n",
        "import scipy.stats as stats\n",
        "import statsmodels.api as sm\n",
        "from sklearn.preprocessing import LabelEncoder\n",
        "%matplotlib inline"
      ],
      "execution_count": 0,
      "outputs": []
    },
    {
      "cell_type": "markdown",
      "metadata": {
        "id": "zSfaJSi2sqQY",
        "colab_type": "text"
      },
      "source": [
        "2. Read the data as a data frame"
      ]
    },
    {
      "cell_type": "code",
      "metadata": {
        "id": "ayDTa1RZgIlh",
        "colab_type": "code",
        "colab": {
          "base_uri": "https://localhost:8080/",
          "height": 202
        },
        "outputId": "197ba997-0eaf-4e5c-d3c5-05646dc2f27f"
      },
      "source": [
        "Data  = pd.read_csv('/insurance.csv') # Import the dataset named 'insurance.csv'\n",
        "Data.head()  # view the first 5 rows of the data\n"
      ],
      "execution_count": 11,
      "outputs": [
        {
          "output_type": "execute_result",
          "data": {
            "text/html": [
              "<div>\n",
              "<style scoped>\n",
              "    .dataframe tbody tr th:only-of-type {\n",
              "        vertical-align: middle;\n",
              "    }\n",
              "\n",
              "    .dataframe tbody tr th {\n",
              "        vertical-align: top;\n",
              "    }\n",
              "\n",
              "    .dataframe thead th {\n",
              "        text-align: right;\n",
              "    }\n",
              "</style>\n",
              "<table border=\"1\" class=\"dataframe\">\n",
              "  <thead>\n",
              "    <tr style=\"text-align: right;\">\n",
              "      <th></th>\n",
              "      <th>age</th>\n",
              "      <th>sex</th>\n",
              "      <th>bmi</th>\n",
              "      <th>children</th>\n",
              "      <th>smoker</th>\n",
              "      <th>region</th>\n",
              "      <th>charges</th>\n",
              "    </tr>\n",
              "  </thead>\n",
              "  <tbody>\n",
              "    <tr>\n",
              "      <th>0</th>\n",
              "      <td>19</td>\n",
              "      <td>female</td>\n",
              "      <td>27.900</td>\n",
              "      <td>0</td>\n",
              "      <td>yes</td>\n",
              "      <td>southwest</td>\n",
              "      <td>16884.92400</td>\n",
              "    </tr>\n",
              "    <tr>\n",
              "      <th>1</th>\n",
              "      <td>18</td>\n",
              "      <td>male</td>\n",
              "      <td>33.770</td>\n",
              "      <td>1</td>\n",
              "      <td>no</td>\n",
              "      <td>southeast</td>\n",
              "      <td>1725.55230</td>\n",
              "    </tr>\n",
              "    <tr>\n",
              "      <th>2</th>\n",
              "      <td>28</td>\n",
              "      <td>male</td>\n",
              "      <td>33.000</td>\n",
              "      <td>3</td>\n",
              "      <td>no</td>\n",
              "      <td>southeast</td>\n",
              "      <td>4449.46200</td>\n",
              "    </tr>\n",
              "    <tr>\n",
              "      <th>3</th>\n",
              "      <td>33</td>\n",
              "      <td>male</td>\n",
              "      <td>22.705</td>\n",
              "      <td>0</td>\n",
              "      <td>no</td>\n",
              "      <td>northwest</td>\n",
              "      <td>21984.47061</td>\n",
              "    </tr>\n",
              "    <tr>\n",
              "      <th>4</th>\n",
              "      <td>32</td>\n",
              "      <td>male</td>\n",
              "      <td>28.880</td>\n",
              "      <td>0</td>\n",
              "      <td>no</td>\n",
              "      <td>northwest</td>\n",
              "      <td>3866.85520</td>\n",
              "    </tr>\n",
              "  </tbody>\n",
              "</table>\n",
              "</div>"
            ],
            "text/plain": [
              "   age     sex     bmi  children smoker     region      charges\n",
              "0   19  female  27.900         0    yes  southwest  16884.92400\n",
              "1   18    male  33.770         1     no  southeast   1725.55230\n",
              "2   28    male  33.000         3     no  southeast   4449.46200\n",
              "3   33    male  22.705         0     no  northwest  21984.47061\n",
              "4   32    male  28.880         0     no  northwest   3866.85520"
            ]
          },
          "metadata": {
            "tags": []
          },
          "execution_count": 11
        }
      ]
    },
    {
      "cell_type": "markdown",
      "metadata": {
        "id": "DAToXPvlwACd",
        "colab_type": "text"
      },
      "source": [
        "3. Perform basic EDA which should include the following\n",
        "and print out your insights at every step."
      ]
    },
    {
      "cell_type": "markdown",
      "metadata": {
        "id": "iIhbDlkDxBXv",
        "colab_type": "text"
      },
      "source": [
        "\n",
        "\n",
        "> a. Shape of the data\n",
        "\n"
      ]
    },
    {
      "cell_type": "code",
      "metadata": {
        "id": "wZ-X4E3FxLrt",
        "colab_type": "code",
        "colab": {
          "base_uri": "https://localhost:8080/",
          "height": 52
        },
        "outputId": "35d9ff79-5c03-4f58-d139-27ed292eab8b"
      },
      "source": [
        "rows, cols = Data.shape # see the shape of the data\n",
        "print (f\"There are {rows} observations / rows and {cols} attributes / columns\")"
      ],
      "execution_count": 25,
      "outputs": [
        {
          "output_type": "stream",
          "text": [
            "1338\n",
            "There are 1338 observations / rows and 7 attributes / columns\n"
          ],
          "name": "stdout"
        }
      ]
    },
    {
      "cell_type": "markdown",
      "metadata": {
        "id": "sT6DY6WKxXUC",
        "colab_type": "text"
      },
      "source": [
        "> b. Data type of each attribute"
      ]
    },
    {
      "cell_type": "code",
      "metadata": {
        "id": "3p-HDPAbxeYh",
        "colab_type": "code",
        "colab": {
          "base_uri": "https://localhost:8080/",
          "height": 225
        },
        "outputId": "d114ae05-de4b-4a9d-ed18-73abda5de77b"
      },
      "source": [
        "Data.info() # To see the data type of each of the variable, number of values entered in each of the variables"
      ],
      "execution_count": 13,
      "outputs": [
        {
          "output_type": "stream",
          "text": [
            "<class 'pandas.core.frame.DataFrame'>\n",
            "RangeIndex: 1338 entries, 0 to 1337\n",
            "Data columns (total 7 columns):\n",
            "age         1338 non-null int64\n",
            "sex         1338 non-null object\n",
            "bmi         1338 non-null float64\n",
            "children    1338 non-null int64\n",
            "smoker      1338 non-null object\n",
            "region      1338 non-null object\n",
            "charges     1338 non-null float64\n",
            "dtypes: float64(2), int64(2), object(3)\n",
            "memory usage: 73.3+ KB\n"
          ],
          "name": "stdout"
        }
      ]
    },
    {
      "cell_type": "markdown",
      "metadata": {
        "id": "3UCusSK96rCs",
        "colab_type": "text"
      },
      "source": [
        "The data has 1338 instances with 7 attributes / columns. 2 integer type, 2 float type and 3 object type (Strings)"
      ]
    },
    {
      "cell_type": "markdown",
      "metadata": {
        "id": "nG5ToKMT65as",
        "colab_type": "text"
      },
      "source": [
        "> c. Checking the presence of missing values"
      ]
    },
    {
      "cell_type": "code",
      "metadata": {
        "id": "qcYT6ZMFxief",
        "colab_type": "code",
        "colab": {
          "base_uri": "https://localhost:8080/",
          "height": 156
        },
        "outputId": "076354df-cccc-4db8-d324-006e9e38effb"
      },
      "source": [
        "Data.isna().sum()  # get the count of na values"
      ],
      "execution_count": 31,
      "outputs": [
        {
          "output_type": "execute_result",
          "data": {
            "text/plain": [
              "age         0\n",
              "sex         0\n",
              "bmi         0\n",
              "children    0\n",
              "smoker      0\n",
              "region      0\n",
              "charges     0\n",
              "dtype: int64"
            ]
          },
          "metadata": {
            "tags": []
          },
          "execution_count": 31
        }
      ]
    },
    {
      "cell_type": "markdown",
      "metadata": {
        "id": "mJXkNSi28T2q",
        "colab_type": "text"
      },
      "source": [
        "No null values in the dataset"
      ]
    },
    {
      "cell_type": "code",
      "metadata": {
        "id": "ujdI5tb17RFx",
        "colab_type": "code",
        "colab": {}
      },
      "source": [
        "Data"
      ],
      "execution_count": 0,
      "outputs": []
    }
  ]
}