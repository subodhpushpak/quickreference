{
  "nbformat": 4,
  "nbformat_minor": 0,
  "metadata": {
    "colab": {
      "name": "stats_qt.ipynb",
      "provenance": [],
      "authorship_tag": "ABX9TyMvcM7svB+55OYkM69YcLIk",
      "include_colab_link": true
    },
    "kernelspec": {
      "name": "python3",
      "display_name": "Python 3"
    }
  },
  "cells": [
    {
      "cell_type": "markdown",
      "metadata": {
        "id": "view-in-github",
        "colab_type": "text"
      },
      "source": [
        "<a href=\"https://colab.research.google.com/github/subodhpushpak/quickreference/blob/master/stats_qt.ipynb\" target=\"_parent\"><img src=\"https://colab.research.google.com/assets/colab-badge.svg\" alt=\"Open In Colab\"/></a>"
      ]
    },
    {
      "cell_type": "code",
      "metadata": {
        "id": "gfHn-KCUvLps"
      },
      "source": [
        "import numpy as np\n",
        "import pandas as pd\n",
        "import scipy.stats as stats\n",
        "import matplotlib.pyplot as pl"
      ],
      "execution_count": 24,
      "outputs": []
    },
    {
      "cell_type": "markdown",
      "metadata": {
        "id": "oJk4D2MJ58NY"
      },
      "source": [
        "Question 1: At a fast food restuarant suppose that 40 students from your class eat lunch. The following data are the amounts spent for lunch"
      ]
    },
    {
      "cell_type": "code",
      "metadata": {
        "id": "9qkUEfwO55yM"
      },
      "source": [
        "# pip install stemgraphic #Uncomment this line for stem and leaf graphs"
      ],
      "execution_count": 25,
      "outputs": []
    },
    {
      "cell_type": "code",
      "metadata": {
        "id": "197Vzs4U6HTy"
      },
      "source": [
        "import stemgraphic "
      ],
      "execution_count": 26,
      "outputs": []
    },
    {
      "cell_type": "code",
      "metadata": {
        "id": "3sT8PZeM6SGK"
      },
      "source": [
        "data = [31,42,42,51,52,56,60,64,65,67,68,69,70,70,72,72,72,73,74,74,75,76,77,80,80,80,80,81,81,82,82,83,84,90,90,92,92,92,95,98] "
      ],
      "execution_count": 27,
      "outputs": []
    },
    {
      "cell_type": "code",
      "metadata": {
        "id": "T4CRrfHQ6PEj",
        "outputId": "5d8cdc93-552b-4462-a48d-1d77550ec3bc",
        "colab": {
          "base_uri": "https://localhost:8080/",
          "height": 250
        }
      },
      "source": [
        "print(f\"Stem and leaf graph\")\n",
        "stemgraphic.stem_graphic(data, scale = 10) "
      ],
      "execution_count": 28,
      "outputs": [
        {
          "output_type": "stream",
          "text": [
            "Stem and leaf graph\n"
          ],
          "name": "stdout"
        },
        {
          "output_type": "execute_result",
          "data": {
            "text/plain": [
              "(<Figure size 540x180 with 1 Axes>,\n",
              " <matplotlib.axes._axes.Axes at 0x7f4145da8c50>)"
            ]
          },
          "metadata": {
            "tags": []
          },
          "execution_count": 28
        },
        {
          "output_type": "display_data",
          "data": {
            "image/png": "[encoded data removed]",
            "text/plain": [
              "<Figure size 540x180 with 1 Axes>"
            ]
          },
          "metadata": {
            "tags": [],
            "needs_background": "light"
          }
        }
      ]
    },
    {
      "cell_type": "code",
      "metadata": {
        "id": "cyYTwJC98x9R",
        "outputId": "45c936f0-612b-4533-80a0-c45984b23a6a",
        "colab": {
          "base_uri": "https://localhost:8080/",
          "height": 101
        }
      },
      "source": [
        "print(f\"min: {np.min(data)}\")\n",
        "print(f\"max: {np.max(data)}\")\n",
        "print(f\"std: {np.std(data)}\")\n",
        "print(f\"mean: {np.mean(data)}\")\n",
        "print(f\"median: {np.median(data)}\")"
      ],
      "execution_count": 32,
      "outputs": [
        {
          "output_type": "stream",
          "text": [
            "min: 31\n",
            "max: 98\n",
            "std: 14.845117042313946\n",
            "mean: 73.35\n",
            "median: 74.5\n"
          ],
          "name": "stdout"
        }
      ]
    },
    {
      "cell_type": "markdown",
      "metadata": {
        "id": "qiwImJKszZlh"
      },
      "source": [
        "Question: The mean length of life of a certain cutting tool is 41.5 hours, with a standard deviation of 2.5 hours. What is the probability that a sample of size 50 drawn from this population will have a mean of between 40.5 hours and 42 hour"
      ]
    },
    {
      "cell_type": "markdown",
      "metadata": {
        "id": "Zy4kZt33zdjn"
      },
      "source": [
        "For z-score https://www.calculator.net/z-score-calculator.html can also be used"
      ]
    },
    {
      "cell_type": "code",
      "metadata": {
        "id": "Lae9iU3uvXP2"
      },
      "source": [
        "# given\n",
        "mean = 41.5\n",
        "n = 50\n",
        "sd = 2.5 \n",
        "x1 = 40.5\n",
        "x2 = 42"
      ],
      "execution_count": 6,
      "outputs": []
    },
    {
      "cell_type": "code",
      "metadata": {
        "id": "P9pN_IjqzuMg",
        "outputId": "06e95e95-a85d-47f7-e4a6-9538b6c2d207",
        "colab": {
          "base_uri": "https://localhost:8080/",
          "height": 34
        }
      },
      "source": [
        "sdx = 2.5 / np.sqrt(n)\n",
        "sdx"
      ],
      "execution_count": 9,
      "outputs": [
        {
          "output_type": "execute_result",
          "data": {
            "text/plain": [
              "0.35355339059327373"
            ]
          },
          "metadata": {
            "tags": []
          },
          "execution_count": 9
        }
      ]
    },
    {
      "cell_type": "code",
      "metadata": {
        "id": "IfGn7EJrziXT",
        "outputId": "a03dd45b-1887-4344-c961-5d50eb8a82e8",
        "colab": {
          "base_uri": "https://localhost:8080/",
          "height": 34
        }
      },
      "source": [
        "z1 = (x1 - mean) / sdx\n",
        "print(f\"z score at {x1} is {z1}\")"
      ],
      "execution_count": 10,
      "outputs": [
        {
          "output_type": "stream",
          "text": [
            "z score at 40.5 is -2.8284271247461903\n"
          ],
          "name": "stdout"
        }
      ]
    },
    {
      "cell_type": "code",
      "metadata": {
        "id": "DjSJuhu8znOM",
        "outputId": "4bcbe268-5d7e-44f1-f0f8-ca874155791f",
        "colab": {
          "base_uri": "https://localhost:8080/",
          "height": 34
        }
      },
      "source": [
        "z2 = (x2 - mean) / sdx\n",
        "print(f\"z score at {x2} is {z2}\")"
      ],
      "execution_count": 11,
      "outputs": [
        {
          "output_type": "stream",
          "text": [
            "z score at 42 is 1.4142135623730951\n"
          ],
          "name": "stdout"
        }
      ]
    },
    {
      "cell_type": "code",
      "metadata": {
        "id": "PlMA8WupzpHl",
        "outputId": "629385cc-fbe0-40d5-b321-60e35291e8c2",
        "colab": {
          "base_uri": "https://localhost:8080/",
          "height": 34
        }
      },
      "source": [
        "pz1 = stats.norm.cdf(0) - stats.norm.cdf(z1)\n",
        "print(f\"probablity at {z1} is {pz1}\")"
      ],
      "execution_count": 12,
      "outputs": [
        {
          "output_type": "stream",
          "text": [
            "probablity at -2.8284271247461903 is 0.49766113250947636\n"
          ],
          "name": "stdout"
        }
      ]
    },
    {
      "cell_type": "code",
      "metadata": {
        "id": "-KxYLMC9z08C",
        "outputId": "c39bd1fc-8138-4d91-a3c7-88a8f5259045",
        "colab": {
          "base_uri": "https://localhost:8080/",
          "height": 34
        }
      },
      "source": [
        "pz2 = stats.norm.cdf(z2) - stats.norm.cdf(0)\n",
        "print(f\"probablity at {z2} is {pz2}\")"
      ],
      "execution_count": 13,
      "outputs": [
        {
          "output_type": "stream",
          "text": [
            "probablity at 1.4142135623730951 is 0.4213503964748575\n"
          ],
          "name": "stdout"
        }
      ]
    },
    {
      "cell_type": "code",
      "metadata": {
        "id": "OnduK3VVz3XM",
        "outputId": "49ea87ad-f1cd-4d64-9b69-0477a2e981fb",
        "colab": {
          "base_uri": "https://localhost:8080/",
          "height": 50
        }
      },
      "source": [
        "pz = pz1 + pz2\n",
        "print(f\"The probability that a sample of size {n} drawn from this population will have a mean of between {x1} hours and {x2} hour is {pz}\")\n",
        "print(f\"The answer is {pz}\")"
      ],
      "execution_count": 14,
      "outputs": [
        {
          "output_type": "stream",
          "text": [
            "The probability that a sample of size 50 drawn from this population will have a mean of between 40.5 hours and 42 hour is 0.9190115289843339\n",
            "The answer is 0.9190115289843339\n"
          ],
          "name": "stdout"
        }
      ]
    },
    {
      "cell_type": "code",
      "metadata": {
        "id": "xAMi67I4z5TP"
      },
      "source": [
        ""
      ],
      "execution_count": null,
      "outputs": []
    }
  ]
}