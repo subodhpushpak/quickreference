{
  "nbformat": 4,
  "nbformat_minor": 0,
  "metadata": {
    "colab": {
      "name": "stats_qt.ipynb",
      "provenance": [],
      "authorship_tag": "ABX9TyNeEJtzpJ6zpBPRfIu38VHN",
      "include_colab_link": true
    },
    "kernelspec": {
      "name": "python3",
      "display_name": "Python 3"
    }
  },
  "cells": [
    {
      "cell_type": "markdown",
      "metadata": {
        "id": "view-in-github",
        "colab_type": "text"
      },
      "source": [
        "<a href=\"https://colab.research.google.com/github/subodhpushpak/quickreference/blob/master/stats_qt.ipynb\" target=\"_parent\"><img src=\"https://colab.research.google.com/assets/colab-badge.svg\" alt=\"Open In Colab\"/></a>"
      ]
    },
    {
      "cell_type": "code",
      "metadata": {
        "id": "gfHn-KCUvLps"
      },
      "source": [
        "import numpy as np\n",
        "import pandas as pd\n",
        "import scipy.stats as stats\n",
        "import matplotlib.pyplot as plt"
      ],
      "execution_count": 4,
      "outputs": []
    },
    {
      "cell_type": "markdown",
      "metadata": {
        "id": "oJk4D2MJ58NY"
      },
      "source": [
        "Question 1: At a fast food restuarant suppose that 40 students from your class eat lunch. The following data are the amounts spent for lunch"
      ]
    },
    {
      "cell_type": "code",
      "metadata": {
        "id": "9qkUEfwO55yM"
      },
      "source": [
        "#pip install stemgraphic #Uncomment this line for stem and leaf graphs"
      ],
      "execution_count": 11,
      "outputs": []
    },
    {
      "cell_type": "code",
      "metadata": {
        "id": "197Vzs4U6HTy"
      },
      "source": [
        "import stemgraphic "
      ],
      "execution_count": 12,
      "outputs": []
    },
    {
      "cell_type": "code",
      "metadata": {
        "id": "3sT8PZeM6SGK"
      },
      "source": [
        "data = [31,42,42,51,52,56,60,64,65,67,68,69,70,70,72,72,72,73,74,74,75,76,77,80,80,80,80,81,81,82,82,83,84,90,90,92,92,92,95,98] "
      ],
      "execution_count": 13,
      "outputs": []
    },
    {
      "cell_type": "code",
      "metadata": {
        "id": "T4CRrfHQ6PEj",
        "outputId": "7fc6de5e-a6d0-4ede-d1f9-c8188c4fb6c8",
        "colab": {
          "base_uri": "https://localhost:8080/",
          "height": 250
        }
      },
      "source": [
        "print(f\"Stem and leaf graph\")\n",
        "stemgraphic.stem_graphic(data, scale = 10) "
      ],
      "execution_count": 14,
      "outputs": [
        {
          "output_type": "stream",
          "text": [
            "Stem and leaf graph\n"
          ],
          "name": "stdout"
        },
        {
          "output_type": "execute_result",
          "data": {
            "text/plain": [
              "(<Figure size 540x180 with 1 Axes>,\n",
              " <matplotlib.axes._axes.Axes at 0x7f903d542518>)"
            ]
          },
          "metadata": {
            "tags": []
          },
          "execution_count": 14
        },
        {
          "output_type": "display_data",
          "data": {
            "image/png": "[encoded data removed]",
            "text/plain": [
              "<Figure size 540x180 with 1 Axes>"
            ]
          },
          "metadata": {
            "tags": [],
            "needs_background": "light"
          }
        }
      ]
    },
    {
      "cell_type": "code",
      "metadata": {
        "id": "cyYTwJC98x9R",
        "outputId": "0d4b7d08-9db0-4a3a-81df-77b853f0578c",
        "colab": {
          "base_uri": "https://localhost:8080/",
          "height": 101
        }
      },
      "source": [
        "# 5 point summary\n",
        "print(f\"min: {np.min(data)}\")\n",
        "print(f\"max: {np.max(data)}\")\n",
        "print(f\"std: {np.std(data)}\")\n",
        "print(f\"mean: {np.mean(data)}\")\n",
        "print(f\"median: {np.median(data)}\")"
      ],
      "execution_count": 15,
      "outputs": [
        {
          "output_type": "stream",
          "text": [
            "min: 31\n",
            "max: 98\n",
            "std: 14.845117042313946\n",
            "mean: 73.35\n",
            "median: 74.5\n"
          ],
          "name": "stdout"
        }
      ]
    },
    {
      "cell_type": "code",
      "metadata": {
        "id": "KzRc30Rvbjxu",
        "outputId": "66920d90-f6d6-429a-ea8b-904cd2c4852c",
        "colab": {
          "base_uri": "https://localhost:8080/",
          "height": 265
        }
      },
      "source": [
        "plt.boxplot(data)\n",
        "plt.show()"
      ],
      "execution_count": 16,
      "outputs": [
        {
          "output_type": "display_data",
          "data": {
            "image/png": "[encoded data removed]",
            "text/plain": [
              "<Figure size 432x288 with 1 Axes>"
            ]
          },
          "metadata": {
            "tags": [],
            "needs_background": "light"
          }
        }
      ]
    },
    {
      "cell_type": "markdown",
      "metadata": {
        "id": "kvoii4IPiLO2"
      },
      "source": [
        "Question: The Human Resource Director of a large organization wanted to know what proportion of \n",
        " all persons who had ever been interviewed for a job with his organization had been hired. \n",
        " He was willing to settle for 95% confidence interval. A random sample of 500 interview \n",
        " records revealed that 76 or .152 of the persons in the sample, had been hired\n"
      ]
    },
    {
      "cell_type": "code",
      "metadata": {
        "id": "lEIEbK6EiKS_",
        "outputId": "f715bb94-e7bd-4866-f6f0-f3c5aa5f66c7",
        "colab": {
          "base_uri": "https://localhost:8080/",
          "height": 34
        }
      },
      "source": [
        "n = 500\n",
        "percentageHired = (15.2 * n) / 100 # check -- .152 represents 15.2% -- .152 is basically probability of being hired among 500 Interviews\n",
        "percentageHired"
      ],
      "execution_count": 34,
      "outputs": [
        {
          "output_type": "execute_result",
          "data": {
            "text/plain": [
              "76.0"
            ]
          },
          "metadata": {
            "tags": []
          },
          "execution_count": 34
        }
      ]
    },
    {
      "cell_type": "code",
      "metadata": {
        "id": "bTh1-ayCi_Px",
        "outputId": "f9a959bf-3ac1-4f24-9dee-f2dac372e0bb",
        "colab": {
          "base_uri": "https://localhost:8080/",
          "height": 34
        }
      },
      "source": [
        "# 95% confidence level means below z\n",
        "a,b = stats.norm.interval(alpha=0.95, loc=0, scale=1)\n",
        "print(a,b)"
      ],
      "execution_count": 35,
      "outputs": [
        {
          "output_type": "stream",
          "text": [
            "-1.959963984540054 1.959963984540054\n"
          ],
          "name": "stdout"
        }
      ]
    },
    {
      "cell_type": "markdown",
      "metadata": {
        "id": "R2JobgKwn0kt"
      },
      "source": [
        "![image.png](data:image/png;base64,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)"
      ]
    },
    {
      "cell_type": "code",
      "metadata": {
        "id": "l_TtLsaEi_XD",
        "outputId": "a6029629-9a52-4754-a12c-81d5dda7e73d",
        "colab": {
          "base_uri": "https://localhost:8080/",
          "height": 34
        }
      },
      "source": [
        "#Probability of hire\n",
        "pHire = .152\n",
        "pNotHire = 1- pHire\n",
        "print(f\"probability of hire: {pHire} and not hired: {pNotHire}\")"
      ],
      "execution_count": 36,
      "outputs": [
        {
          "output_type": "stream",
          "text": [
            "probability of hire: 0.152 and not hired: 0.848\n"
          ],
          "name": "stdout"
        }
      ]
    },
    {
      "cell_type": "code",
      "metadata": {
        "id": "T-M1ZhnxqYwa",
        "outputId": "a20c75e9-d8d3-4567-d03b-3c3deaa30709",
        "colab": {
          "base_uri": "https://localhost:8080/",
          "height": 34
        }
      },
      "source": [
        "prob = np.sqrt((pHire * pNotHire) / n)\n",
        "prob"
      ],
      "execution_count": 37,
      "outputs": [
        {
          "output_type": "execute_result",
          "data": {
            "text/plain": [
              "0.016055902341506688"
            ]
          },
          "metadata": {
            "tags": []
          },
          "execution_count": 37
        }
      ]
    },
    {
      "cell_type": "code",
      "metadata": {
        "id": "ZPBY526oqY3V",
        "outputId": "9fa53f17-c590-4f4c-8435-e2c29105c4e3",
        "colab": {
          "base_uri": "https://localhost:8080/",
          "height": 34
        }
      },
      "source": [
        "areaToleft = pHire - (1.96 * prob)\n",
        "areaToleft"
      ],
      "execution_count": 39,
      "outputs": [
        {
          "output_type": "execute_result",
          "data": {
            "text/plain": [
              "0.1205304314106469"
            ]
          },
          "metadata": {
            "tags": []
          },
          "execution_count": 39
        }
      ]
    },
    {
      "cell_type": "code",
      "metadata": {
        "id": "uxtpV2K9qY7r",
        "outputId": "35403b7f-218f-4437-9497-28bcccf3b1ea",
        "colab": {
          "base_uri": "https://localhost:8080/",
          "height": 34
        }
      },
      "source": [
        "areatoRight = pHire + (1.96 * prob)\n",
        "areatoRight"
      ],
      "execution_count": 40,
      "outputs": [
        {
          "output_type": "execute_result",
          "data": {
            "text/plain": [
              "0.1834695685893531"
            ]
          },
          "metadata": {
            "tags": []
          },
          "execution_count": 40
        }
      ]
    },
    {
      "cell_type": "code",
      "metadata": {
        "id": "UiPkd3gzroIy",
        "outputId": "d446eeeb-57b3-47cc-db53-6d5cb3de07fc",
        "colab": {
          "base_uri": "https://localhost:8080/",
          "height": 34
        }
      },
      "source": [
        "print(f\"The proportion of all persons who had ever been interviewed for a job with his organization had been hired varies from {round(areaToleft * 100, 2)} % to {round(areatoRight * 100,2)} %\")"
      ],
      "execution_count": 49,
      "outputs": [
        {
          "output_type": "stream",
          "text": [
            "The proportion of all persons who had ever been interviewed for a job with his organization had been hired varies from 12.05 % to 18.35 %\n"
          ],
          "name": "stdout"
        }
      ]
    },
    {
      "cell_type": "markdown",
      "metadata": {
        "id": "MhdIILvSiKjA"
      },
      "source": [
        ""
      ]
    },
    {
      "cell_type": "code",
      "metadata": {
        "id": "Dg0hNOhfqXqM"
      },
      "source": [
        ""
      ],
      "execution_count": null,
      "outputs": []
    },
    {
      "cell_type": "markdown",
      "metadata": {
        "id": "zQXJVx2TiKtH"
      },
      "source": [
        ""
      ]
    },
    {
      "cell_type": "markdown",
      "metadata": {
        "id": "qiwImJKszZlh"
      },
      "source": [
        "Question: The mean length of life of a certain cutting tool is 41.5 hours, with a standard deviation of 2.5 hours. What is the probability that a sample of size 50 drawn from this population will have a mean of between 40.5 hours and 42 hour"
      ]
    },
    {
      "cell_type": "markdown",
      "metadata": {
        "id": "Zy4kZt33zdjn"
      },
      "source": [
        "For z-score https://www.calculator.net/z-score-calculator.html can also be used"
      ]
    },
    {
      "cell_type": "code",
      "metadata": {
        "id": "Lae9iU3uvXP2"
      },
      "source": [
        "# given\n",
        "mean = 41.5\n",
        "n = 50\n",
        "sd = 2.5 \n",
        "x1 = 40.5\n",
        "x2 = 42"
      ],
      "execution_count": 6,
      "outputs": []
    },
    {
      "cell_type": "code",
      "metadata": {
        "id": "P9pN_IjqzuMg",
        "outputId": "06e95e95-a85d-47f7-e4a6-9538b6c2d207",
        "colab": {
          "base_uri": "https://localhost:8080/",
          "height": 34
        }
      },
      "source": [
        "sdx = 2.5 / np.sqrt(n)\n",
        "sdx"
      ],
      "execution_count": 9,
      "outputs": [
        {
          "output_type": "execute_result",
          "data": {
            "text/plain": [
              "0.35355339059327373"
            ]
          },
          "metadata": {
            "tags": []
          },
          "execution_count": 9
        }
      ]
    },
    {
      "cell_type": "code",
      "metadata": {
        "id": "IfGn7EJrziXT",
        "outputId": "a03dd45b-1887-4344-c961-5d50eb8a82e8",
        "colab": {
          "base_uri": "https://localhost:8080/",
          "height": 34
        }
      },
      "source": [
        "z1 = (x1 - mean) / sdx\n",
        "print(f\"z score at {x1} is {z1}\")"
      ],
      "execution_count": 10,
      "outputs": [
        {
          "output_type": "stream",
          "text": [
            "z score at 40.5 is -2.8284271247461903\n"
          ],
          "name": "stdout"
        }
      ]
    },
    {
      "cell_type": "code",
      "metadata": {
        "id": "DjSJuhu8znOM",
        "outputId": "4bcbe268-5d7e-44f1-f0f8-ca874155791f",
        "colab": {
          "base_uri": "https://localhost:8080/",
          "height": 34
        }
      },
      "source": [
        "z2 = (x2 - mean) / sdx\n",
        "print(f\"z score at {x2} is {z2}\")"
      ],
      "execution_count": 11,
      "outputs": [
        {
          "output_type": "stream",
          "text": [
            "z score at 42 is 1.4142135623730951\n"
          ],
          "name": "stdout"
        }
      ]
    },
    {
      "cell_type": "code",
      "metadata": {
        "id": "PlMA8WupzpHl",
        "outputId": "629385cc-fbe0-40d5-b321-60e35291e8c2",
        "colab": {
          "base_uri": "https://localhost:8080/",
          "height": 34
        }
      },
      "source": [
        "pz1 = stats.norm.cdf(0) - stats.norm.cdf(z1)\n",
        "print(f\"probablity at {z1} is {pz1}\")"
      ],
      "execution_count": 12,
      "outputs": [
        {
          "output_type": "stream",
          "text": [
            "probablity at -2.8284271247461903 is 0.49766113250947636\n"
          ],
          "name": "stdout"
        }
      ]
    },
    {
      "cell_type": "code",
      "metadata": {
        "id": "-KxYLMC9z08C",
        "outputId": "c39bd1fc-8138-4d91-a3c7-88a8f5259045",
        "colab": {
          "base_uri": "https://localhost:8080/",
          "height": 34
        }
      },
      "source": [
        "pz2 = stats.norm.cdf(z2) - stats.norm.cdf(0)\n",
        "print(f\"probablity at {z2} is {pz2}\")"
      ],
      "execution_count": 13,
      "outputs": [
        {
          "output_type": "stream",
          "text": [
            "probablity at 1.4142135623730951 is 0.4213503964748575\n"
          ],
          "name": "stdout"
        }
      ]
    },
    {
      "cell_type": "code",
      "metadata": {
        "id": "OnduK3VVz3XM",
        "outputId": "49ea87ad-f1cd-4d64-9b69-0477a2e981fb",
        "colab": {
          "base_uri": "https://localhost:8080/",
          "height": 50
        }
      },
      "source": [
        "pz = pz1 + pz2\n",
        "print(f\"The probability that a sample of size {n} drawn from this population will have a mean of between {x1} hours and {x2} hour is {pz}\")\n",
        "print(f\"The answer is {pz}\")"
      ],
      "execution_count": 14,
      "outputs": [
        {
          "output_type": "stream",
          "text": [
            "The probability that a sample of size 50 drawn from this population will have a mean of between 40.5 hours and 42 hour is 0.9190115289843339\n",
            "The answer is 0.9190115289843339\n"
          ],
          "name": "stdout"
        }
      ]
    },
    {
      "cell_type": "code",
      "metadata": {
        "id": "xAMi67I4z5TP"
      },
      "source": [
        ""
      ],
      "execution_count": null,
      "outputs": []
    },
    {
      "cell_type": "markdown",
      "metadata": {
        "id": "nvUjtfAga7uQ"
      },
      "source": [
        ""
      ]
    },
    {
      "cell_type": "markdown",
      "metadata": {
        "id": "ArovlANEa8H-"
      },
      "source": [
        "Q3 Two types of batteries are tested for their of life and the following result are obtained "
      ]
    },
    {
      "cell_type": "code",
      "metadata": {
        "id": "79ruHgp6bS0G"
      },
      "source": [
        ""
      ],
      "execution_count": null,
      "outputs": []
    }
  ]
}